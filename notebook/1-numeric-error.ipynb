{
 "metadata": {
  "language_info": {
   "codemirror_mode": {
    "name": "ipython",
    "version": 3
   },
   "file_extension": ".py",
   "mimetype": "text/x-python",
   "name": "python",
   "nbconvert_exporter": "python",
   "pygments_lexer": "ipython3",
   "version": "3.9.6"
  },
  "orig_nbformat": 4,
  "kernelspec": {
   "name": "python3",
   "display_name": "Python 3.9.6 64-bit ('numerical-calculation-simulation-for-pytho-R8n8jHpI-py3.9': venv)"
  },
  "interpreter": {
   "hash": "b608d17b86281bc7a32d3d6bf3658702c135dd4ce2dff2b4a2ae620a6041ebd0"
  }
 },
 "nbformat": 4,
 "nbformat_minor": 2,
 "cells": [
  {
   "source": [
    "## 桁落ち"
   ],
   "cell_type": "markdown",
   "metadata": {}
  },
  {
   "cell_type": "code",
   "execution_count": 1,
   "metadata": {},
   "outputs": [],
   "source": [
    "import math\n",
    "\n",
    "X = 1e15"
   ]
  },
  {
   "cell_type": "code",
   "execution_count": 2,
   "metadata": {},
   "outputs": [],
   "source": [
    "def error(x):\n",
    "    return math.sqrt(x + 1) - math.sqrt(x)\n",
    "\n",
    "def correct(x):\n",
    "    return 1 / (math.sqrt(x + 1) + math.sqrt(x))"
   ]
  },
  {
   "cell_type": "code",
   "execution_count": 4,
   "metadata": {},
   "outputs": [
    {
     "output_type": "stream",
     "name": "stdout",
     "text": [
      "1.862645149230957e-08\n1.5811388300841893e-08\n"
     ]
    }
   ],
   "source": [
    "X = 1e15\n",
    "print(error(X))\n",
    "print(correct(X))"
   ]
  },
  {
   "cell_type": "code",
   "execution_count": 5,
   "metadata": {},
   "outputs": [
    {
     "output_type": "stream",
     "name": "stdout",
     "text": [
      "0.0\n5e-09\n"
     ]
    }
   ],
   "source": [
    "X = 1e16\n",
    "print(error(X))\n",
    "print(correct(X))"
   ]
  },
  {
   "source": [
    "## 丸め誤差"
   ],
   "cell_type": "markdown",
   "metadata": {}
  },
  {
   "cell_type": "code",
   "execution_count": 8,
   "metadata": {},
   "outputs": [
    {
     "output_type": "stream",
     "name": "stdout",
     "text": [
      "0.1\n"
     ]
    }
   ],
   "source": [
    "print(0.1)"
   ]
  },
  {
   "cell_type": "code",
   "execution_count": 9,
   "metadata": {},
   "outputs": [
    {
     "output_type": "stream",
     "name": "stdout",
     "text": [
      "100000.00000133288\n"
     ]
    }
   ],
   "source": [
    "sum = 0.0\n",
    "for _ in range(1000000):\n",
    "    sum += 0.1\n",
    "print(sum)"
   ]
  },
  {
   "source": [
    "## 情報落ち"
   ],
   "cell_type": "markdown",
   "metadata": {}
  },
  {
   "cell_type": "code",
   "execution_count": 14,
   "metadata": {},
   "outputs": [
    {
     "output_type": "stream",
     "name": "stdout",
     "text": [
      "10000000000.0\n"
     ]
    }
   ],
   "source": [
    "X = 1e10\n",
    "for _ in range(10000000):\n",
    "    X += 1e-8\n",
    "print(X)"
   ]
  },
  {
   "cell_type": "code",
   "execution_count": 15,
   "metadata": {},
   "outputs": [
    {
     "output_type": "stream",
     "name": "stdout",
     "text": [
      "10000000000.1\n"
     ]
    }
   ],
   "source": [
    "X = 1e10\n",
    "sum = 0\n",
    "for _ in range(10000000):\n",
    "    sum += 1e-8\n",
    "X += sum\n",
    "print(X)"
   ]
  },
  {
   "source": [
    "## 丸め誤差（Decimalモジュール）"
   ],
   "cell_type": "markdown",
   "metadata": {}
  },
  {
   "cell_type": "code",
   "execution_count": 1,
   "metadata": {},
   "outputs": [
    {
     "output_type": "stream",
     "name": "stdout",
     "text": [
      "100000.0\n"
     ]
    }
   ],
   "source": [
    "import decimal\n",
    "\n",
    "sum = decimal.Decimal(\"0.0\")\n",
    "for _ in range(1000000):\n",
    "    sum += decimal.Decimal(\"0.1\")\n",
    "print(sum)"
   ]
  },
  {
   "cell_type": "code",
   "execution_count": 2,
   "metadata": {},
   "outputs": [
    {
     "output_type": "stream",
     "name": "stdout",
     "text": [
      "1/2 1/5\n10/21\n15/7\n"
     ]
    }
   ],
   "source": [
    "import fractions\n",
    "\n",
    "print(fractions.Fraction(5, 10), fractions.Fraction(3, 15))\n",
    "print(fractions.Fraction(1, 3) + fractions.Fraction(1, 7))\n",
    "print(fractions.Fraction(5, 3) * fractions.Fraction(6, 7) * fractions.Fraction(3, 2))"
   ]
  },
  {
   "cell_type": "code",
   "execution_count": null,
   "metadata": {},
   "outputs": [],
   "source": []
  }
 ]
}