{
 "metadata": {
  "language_info": {
   "codemirror_mode": {
    "name": "ipython",
    "version": 3
   },
   "file_extension": ".py",
   "mimetype": "text/x-python",
   "name": "python",
   "nbconvert_exporter": "python",
   "pygments_lexer": "ipython3",
   "version": "3.9.6"
  },
  "orig_nbformat": 4,
  "kernelspec": {
   "name": "python3",
   "display_name": "Python 3.9.6 64-bit ('numerical-calculation-simulation-for-pytho-R8n8jHpI-py3.9': venv)"
  },
  "interpreter": {
   "hash": "b608d17b86281bc7a32d3d6bf3658702c135dd4ce2dff2b4a2ae620a6041ebd0"
  }
 },
 "nbformat": 4,
 "nbformat_minor": 2,
 "cells": [
  {
   "cell_type": "code",
   "execution_count": 1,
   "metadata": {},
   "outputs": [],
   "source": [
    "a = 2\n",
    "LIMIT = 1e-10"
   ]
  },
  {
   "cell_type": "code",
   "execution_count": 2,
   "metadata": {},
   "outputs": [],
   "source": [
    "def f(x):\n",
    "    return x * x - a"
   ]
  },
  {
   "cell_type": "code",
   "execution_count": 3,
   "metadata": {},
   "outputs": [],
   "source": [
    "xp = 2.0\n",
    "xn = 0.0"
   ]
  },
  {
   "cell_type": "code",
   "execution_count": 4,
   "metadata": {},
   "outputs": [
    {
     "output_type": "stream",
     "name": "stdout",
     "text": [
      "1.000000000000000, 2.000000000000000\n1.000000000000000, 1.500000000000000\n1.250000000000000, 1.500000000000000\n1.375000000000000, 1.500000000000000\n1.375000000000000, 1.437500000000000\n1.406250000000000, 1.437500000000000\n1.406250000000000, 1.421875000000000\n1.414062500000000, 1.421875000000000\n1.414062500000000, 1.417968750000000\n1.414062500000000, 1.416015625000000\n1.414062500000000, 1.415039062500000\n1.414062500000000, 1.414550781250000\n1.414062500000000, 1.414306640625000\n1.414184570312500, 1.414306640625000\n1.414184570312500, 1.414245605468750\n1.414184570312500, 1.414215087890625\n1.414199829101562, 1.414215087890625\n1.414207458496094, 1.414215087890625\n"
     ]
    }
   ],
   "source": [
    "while (xp - xn) ** 2 > LIMIT:\n",
    "    xmid = (xp + xn) / 2\n",
    "    if f(xmid) > 0:\n",
    "        xp = xmid\n",
    "    else:\n",
    "        xn = xmid\n",
    "    print(\"{:.15f}, {:.15f}\".format(xn, xp))"
   ]
  },
  {
   "cell_type": "code",
   "execution_count": null,
   "metadata": {},
   "outputs": [],
   "source": []
  }
 ]
}