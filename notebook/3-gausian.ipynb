{
 "metadata": {
  "language_info": {
   "codemirror_mode": {
    "name": "ipython",
    "version": 3
   },
   "file_extension": ".py",
   "mimetype": "text/x-python",
   "name": "python",
   "nbconvert_exporter": "python",
   "pygments_lexer": "ipython3",
   "version": "3.9.6"
  },
  "orig_nbformat": 4,
  "kernelspec": {
   "name": "python3",
   "display_name": "Python 3.9.6 64-bit ('numerical-calculation-simulation-for-pytho-R8n8jHpI-py3.9': venv)"
  },
  "interpreter": {
   "hash": "b608d17b86281bc7a32d3d6bf3658702c135dd4ce2dff2b4a2ae620a6041ebd0"
  }
 },
 "nbformat": 4,
 "nbformat_minor": 2,
 "cells": [
  {
   "cell_type": "code",
   "execution_count": 4,
   "metadata": {},
   "outputs": [],
   "source": [
    "import numpy as np"
   ]
  },
  {
   "cell_type": "code",
   "execution_count": 13,
   "metadata": {},
   "outputs": [],
   "source": [
    "def forward(r, N):\n",
    "    for i in range(N):\n",
    "        r[i] /= r[i][i]\n",
    "        for j in range(i + 1, N):\n",
    "            r[j] -= r[j][i] * r[i]"
   ]
  },
  {
   "cell_type": "code",
   "execution_count": 16,
   "metadata": {},
   "outputs": [],
   "source": [
    "def backwrd(r, N):\n",
    "    x = np.zeros(N)\n",
    "    for i in range(N - 1, -1, -1):\n",
    "        x[i] = r[i][N] - np.sum(x * r[i][:N])\n",
    "    return x"
   ]
  },
  {
   "cell_type": "code",
   "execution_count": 17,
   "metadata": {},
   "outputs": [
    {
     "output_type": "stream",
     "name": "stdout",
     "text": [
      "[[ 1.         -0.25        0.         -0.25        0.          0.\n   0.          0.          0.          0.        ]\n [ 0.          1.         -0.26666667 -0.06666667 -0.26666667  0.\n   0.          0.          0.          0.        ]\n [ 0.          0.          1.         -0.01785714 -0.07142857 -0.26785714\n   0.          0.          0.          0.06696429]\n [ 0.          0.          0.          1.         -0.28708134 -0.00478469\n  -0.26794258  0.          0.          0.00119617]\n [ 0.          0.          0.          0.          1.         -0.31601124\n  -0.08426966 -0.29353933  0.          0.00561798]\n [ 0.          0.          0.          0.          0.          1.\n  -0.02815735 -0.0931677  -0.29482402  0.1689441 ]\n [ 0.          0.          0.          0.          0.          0.\n   1.         -0.295038   -0.00759946  0.07258605]\n [ 0.          0.          0.          0.          0.          0.\n   0.          1.         -0.32835821  0.19029851]\n [ 0.          0.          0.          0.          0.          0.\n   0.          0.          1.          0.5625    ]]\n[0.0625 0.125  0.1875 0.125  0.25   0.375  0.1875 0.375  0.5625]\n"
     ]
    }
   ],
   "source": [
    "N = 9\n",
    "r = np.array([\n",
    "    [4, -1, 0, -1, 0, 0, 0, 0, 0, 0],\n",
    "    [-1, 4, -1, 0, -1, 0, 0, 0, 0, 0],\n",
    "    [0, -1, 4, 0, 0, -1, 0, 0, 0, 0.25],\n",
    "    [-1, 0, 0, 4, -1, 0, -1, 0, 0, 0],\n",
    "    [0, -1, 0, -1, 4, -1, 0, -1, 0, 0],\n",
    "    [0, 0, -1, 0, -1, 4, 0, 0, -1, 0.5],\n",
    "    [0, 0, 0, -1, 0, 0, 4, -1, 0, 0.25],\n",
    "    [0, 0, 0, 0, -1, 0, -1, 4, -1, 0.5],\n",
    "    [0, 0, 0, 0, 0, -1, 0, -1, 4, 1.5],\n",
    "])\n",
    "forward(r, N)\n",
    "x = backwrd(r, N)\n",
    "print(r)\n",
    "print(x)"
   ]
  },
  {
   "cell_type": "code",
   "execution_count": null,
   "metadata": {},
   "outputs": [],
   "source": []
  }
 ]
}