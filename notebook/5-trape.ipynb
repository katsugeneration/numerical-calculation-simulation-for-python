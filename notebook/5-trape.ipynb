{
 "metadata": {
  "language_info": {
   "codemirror_mode": {
    "name": "ipython",
    "version": 3
   },
   "file_extension": ".py",
   "mimetype": "text/x-python",
   "name": "python",
   "nbconvert_exporter": "python",
   "pygments_lexer": "ipython3",
   "version": "3.9.6"
  },
  "orig_nbformat": 4,
  "kernelspec": {
   "name": "python3",
   "display_name": "Python 3.9.6 64-bit ('numerical-calculation-simulation-for-pytho-R8n8jHpI-py3.9': venv)"
  },
  "interpreter": {
   "hash": "b608d17b86281bc7a32d3d6bf3658702c135dd4ce2dff2b4a2ae620a6041ebd0"
  }
 },
 "nbformat": 4,
 "nbformat_minor": 2,
 "cells": [
  {
   "cell_type": "code",
   "execution_count": 1,
   "metadata": {},
   "outputs": [],
   "source": [
    "import math"
   ]
  },
  {
   "cell_type": "code",
   "execution_count": 3,
   "metadata": {},
   "outputs": [],
   "source": [
    "def f(x):\n",
    "    return math.sqrt(1.0 - x ** 2)"
   ]
  },
  {
   "cell_type": "code",
   "execution_count": 12,
   "metadata": {},
   "outputs": [],
   "source": [
    "def integral(f, N):\n",
    "    h = 1.0 / N\n",
    "    s = f(0.0) * h / 2.0\n",
    "    for i in range(1, N):\n",
    "        s += f(h * float(i)) * h\n",
    "    s += f(1.0) * h / 2.0\n",
    "    return s"
   ]
  },
  {
   "cell_type": "code",
   "execution_count": 13,
   "metadata": {},
   "outputs": [
    {
     "output_type": "execute_result",
     "data": {
      "text/plain": [
       "0.785388866727757"
      ]
     },
     "metadata": {},
     "execution_count": 13
    }
   ],
   "source": [
    "N = 1000\n",
    "integral(f, N)"
   ]
  },
  {
   "cell_type": "code",
   "execution_count": 14,
   "metadata": {},
   "outputs": [
    {
     "output_type": "execute_result",
     "data": {
      "text/plain": [
       "0.7853981541004893"
      ]
     },
     "metadata": {},
     "execution_count": 14
    }
   ],
   "source": [
    "N = 100000\n",
    "integral(f, N)"
   ]
  },
  {
   "cell_type": "code",
   "execution_count": 16,
   "metadata": {},
   "outputs": [
    {
     "output_type": "stream",
     "name": "stdout",
     "text": [
      "0.78539756\n"
     ]
    }
   ],
   "source": [
    "import random\n",
    "\n",
    "SEED = 1\n",
    "N = 100000000\n",
    "s = 0\n",
    "for _ in range(N):\n",
    "    x = random.random()\n",
    "    y = random.random()\n",
    "    if (x * x + y * y) <= 1:\n",
    "        s += 1\n",
    "print(float(s) / N) "
   ]
  },
  {
   "cell_type": "code",
   "execution_count": null,
   "metadata": {},
   "outputs": [],
   "source": []
  }
 ]
}