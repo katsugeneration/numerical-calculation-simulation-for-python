{
 "metadata": {
  "language_info": {
   "codemirror_mode": {
    "name": "ipython",
    "version": 3
   },
   "file_extension": ".py",
   "mimetype": "text/x-python",
   "name": "python",
   "nbconvert_exporter": "python",
   "pygments_lexer": "ipython3",
   "version": "3.9.6"
  },
  "orig_nbformat": 4,
  "kernelspec": {
   "name": "python3",
   "display_name": "Python 3.9.6 64-bit ('numerical-calculation-simulation-for-pytho-R8n8jHpI-py3.9': venv)"
  },
  "interpreter": {
   "hash": "b608d17b86281bc7a32d3d6bf3658702c135dd4ce2dff2b4a2ae620a6041ebd0"
  }
 },
 "nbformat": 4,
 "nbformat_minor": 2,
 "cells": [
  {
   "cell_type": "code",
   "execution_count": 1,
   "metadata": {},
   "outputs": [],
   "source": [
    "import numpy as np"
   ]
  },
  {
   "cell_type": "code",
   "execution_count": 2,
   "metadata": {},
   "outputs": [
    {
     "output_type": "stream",
     "name": "stdout",
     "text": [
      "[0.0625 0.125  0.1875 0.125  0.25   0.375  0.1875 0.375  0.5625]\n"
     ]
    }
   ],
   "source": [
    "A = np.array([\n",
    "    [4, -1, 0, -1, 0, 0, 0, 0, 0],\n",
    "    [-1, 4, -1, 0, -1, 0, 0, 0, 0],\n",
    "    [0, -1, 4, 0, 0, -1, 0, 0, 0],\n",
    "    [-1, 0, 0, 4, -1, 0, -1, 0, 0],\n",
    "    [0, -1, 0, -1, 4, -1, 0, -1, 0],\n",
    "    [0, 0, -1, 0, -1, 4, 0, 0, -1],\n",
    "    [0, 0, 0, -1, 0, 0, 4, -1, 0],\n",
    "    [0, 0, 0, 0, -1, 0, -1, 4, -1],\n",
    "    [0, 0, 0, 0, 0, -1, 0, -1, 4],\n",
    "])\n",
    "b = np.array([0, 0, 0.25, 0, 0, 0.5, 0.25, 0.5, 1.5])\n",
    "x = np.linalg.solve(A, b)\n",
    "print(x)"
   ]
  },
  {
   "cell_type": "code",
   "execution_count": null,
   "metadata": {},
   "outputs": [],
   "source": []
  }
 ]
}