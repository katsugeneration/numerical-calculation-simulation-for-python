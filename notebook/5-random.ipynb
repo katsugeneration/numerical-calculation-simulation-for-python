{
 "metadata": {
  "language_info": {
   "codemirror_mode": {
    "name": "ipython",
    "version": 3
   },
   "file_extension": ".py",
   "mimetype": "text/x-python",
   "name": "python",
   "nbconvert_exporter": "python",
   "pygments_lexer": "ipython3",
   "version": "3.9.6"
  },
  "orig_nbformat": 4,
  "kernelspec": {
   "name": "python3",
   "display_name": "Python 3.9.6 64-bit ('numerical-calculation-simulation-for-pytho-R8n8jHpI-py3.9': venv)"
  },
  "interpreter": {
   "hash": "b608d17b86281bc7a32d3d6bf3658702c135dd4ce2dff2b4a2ae620a6041ebd0"
  }
 },
 "nbformat": 4,
 "nbformat_minor": 2,
 "cells": [
  {
   "cell_type": "code",
   "execution_count": 3,
   "metadata": {},
   "outputs": [],
   "source": [
    "a = 1664525\n",
    "c = 1013904223\n",
    "m = 2 ** 32"
   ]
  },
  {
   "cell_type": "code",
   "execution_count": 4,
   "metadata": {},
   "outputs": [
    {
     "output_type": "stream",
     "name": "stdout",
     "text": [
      "1025555898\n3923423697\n2630631676\n3981355051\n211918734\n3675562389\n1550419440\n228089999\n295425186\n4225977241\n4178165796\n2281704755\n1940713718\n2352952285\n2598609816\n3338981911\n3349268618\n1795628641\n2036278348\n3659928379\n1556770654\n2068057893\n394884672\n3217519775\n3582867826\n1538083369\n768150900\n4216642115\n524270278\n1953256301\n1959894504\n463890471\n489736026\n2669735665\n3319274396\n363102795\n2600891182\n3978633397\n1141291664\n2536230063\n1515000386\n1343302841\n2201022148\n3056675667\n1330395286\n679450365\n3754388536\n2686829111\n1629141546\n4279313281\n"
     ]
    }
   ],
   "source": [
    "r = 7\n",
    "LIMIT = 50\n",
    "for _ in range(LIMIT):\n",
    "    r = (a * r + c) % m\n",
    "    print(r)"
   ]
  },
  {
   "cell_type": "code",
   "execution_count": 1,
   "metadata": {},
   "outputs": [
    {
     "output_type": "stream",
     "name": "stdout",
     "text": [
      "0.32383276483316237\n0.15084917392450192\n0.6509344730398537\n0.07243628666754276\n0.5358820043066892\n0.36568891691258554\n0.057998924774706806\n0.5074357331894203\n0.03749565844198488\n0.4336456836623859\n0.06985542357461894\n0.09071301334386506\n0.42451918914251396\n0.8268521246720381\n0.12380196114964559\n0.22323896460701453\n0.6274332224055893\n0.9477089424570057\n0.5771029486174987\n0.39668047465078016\n"
     ]
    }
   ],
   "source": [
    "import random\n",
    "\n",
    "random.seed(7)\n",
    "for _ in range(20):\n",
    "    print(random.random())"
   ]
  },
  {
   "cell_type": "code",
   "execution_count": null,
   "metadata": {},
   "outputs": [],
   "source": []
  }
 ]
}