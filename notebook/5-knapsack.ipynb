{
 "metadata": {
  "language_info": {
   "codemirror_mode": {
    "name": "ipython",
    "version": 3
   },
   "file_extension": ".py",
   "mimetype": "text/x-python",
   "name": "python",
   "nbconvert_exporter": "python",
   "pygments_lexer": "ipython3",
   "version": "3.9.6"
  },
  "orig_nbformat": 4,
  "kernelspec": {
   "name": "python3",
   "display_name": "Python 3.9.6 64-bit ('numerical-calculation-simulation-for-pytho-R8n8jHpI-py3.9': venv)"
  },
  "interpreter": {
   "hash": "b608d17b86281bc7a32d3d6bf3658702c135dd4ce2dff2b4a2ae620a6041ebd0"
  }
 },
 "nbformat": 4,
 "nbformat_minor": 2,
 "cells": [
  {
   "cell_type": "code",
   "execution_count": 5,
   "metadata": {},
   "outputs": [],
   "source": [
    "import random\n",
    "import numpy as np"
   ]
  },
  {
   "cell_type": "code",
   "execution_count": 6,
   "metadata": {},
   "outputs": [],
   "source": [
    "weights = np.array([87, 66, 70, 25, 33, 24, 89, 63, 23, 54])\n",
    "values = np.array([96, 55, 21, 58, 41, 81, 8, 99, 59, 62])\n",
    "\n",
    "N = len(weights)\n",
    "SEED = 32767"
   ]
  },
  {
   "cell_type": "code",
   "execution_count": 20,
   "metadata": {},
   "outputs": [],
   "source": [
    "def search(weights, values, max, limit):\n",
    "    maxvalue = 0\n",
    "    ret = None\n",
    "    for _ in range(limit):\n",
    "        bits = (np.random.randn(N) * 2 > 0.5).astype(int)\n",
    "        weight = np.sum(weights * bits)\n",
    "        if weight > max:\n",
    "            value = 0\n",
    "        else:\n",
    "            value = np.sum(values * bits)\n",
    "        if value > maxvalue:\n",
    "            maxvalue = value\n",
    "            ret = bits\n",
    "    print(maxvalue)\n",
    "    print(ret)"
   ]
  },
  {
   "cell_type": "code",
   "execution_count": 21,
   "metadata": {},
   "outputs": [
    {
     "output_type": "stream",
     "name": "stdout",
     "text": [
      "393\n[1 0 0 1 0 1 0 1 1 0]\n356\n[0 1 0 0 0 1 0 1 1 1]\n356\n[1 0 0 1 0 1 0 0 1 1]\n356\n[0 1 0 0 0 1 0 1 1 1]\n356\n[0 1 0 0 0 1 0 1 1 1]\n352\n[0 1 0 1 0 1 0 1 1 0]\n400\n[0 0 0 1 1 1 0 1 1 1]\n339\n[1 0 0 0 1 1 0 0 1 1]\n393\n[1 0 0 1 0 1 0 1 1 0]\n393\n[1 0 0 1 0 1 0 1 1 0]\n"
     ]
    }
   ],
   "source": [
    "LIMIT = 200\n",
    "MAX =250\n",
    "np.random.seed(SEED)\n",
    "for _ in range(10):\n",
    "    search(weights, values, MAX, LIMIT)"
   ]
  },
  {
   "cell_type": "code",
   "execution_count": null,
   "metadata": {},
   "outputs": [],
   "source": []
  }
 ]
}